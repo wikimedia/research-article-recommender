{
 "cells": [
  {
   "cell_type": "code",
   "execution_count": 2,
   "metadata": {},
   "outputs": [],
   "source": [
    "# Wikipedia redirects \"Tumor\" to \"Neoplasm\".\n",
    "# Wikidata has 5 items with the label \"Tumor\".\n",
    "# We want to figure out which one of the 5 items is the \"Tumor\" Wikipedia is referring to.\n",
    "# We'll use word2vec and cosine similarity to figure this out."
   ]
  },
  {
   "cell_type": "code",
   "execution_count": null,
   "metadata": {},
   "outputs": [],
   "source": [
    "from pyspark.ml.feature import StopWordsRemover, Word2Vec\n",
    "from sklearn.metrics.pairwise import cosine_similarity\n",
    "import numpy as np"
   ]
  },
  {
   "cell_type": "code",
   "execution_count": 3,
   "metadata": {},
   "outputs": [],
   "source": [
    "target = { 'id': 'Q1216998', 'label': 'neoplasm',\n",
    "          'desc': 'abnormal mass of tissue as a result of abnormal growth '\n",
    "              'or division of cells'}\n",
    "redirects = [\n",
    "    {'id': 'Q37752422', 'label': 'Tumor', 'desc': 'river in Russia'},\n",
    "    {'id': 'Q31537161', 'label': 'Tumor', 'desc': 'mountain in South Africa'},\n",
    "    {'id': 'Q133212', 'label': 'tumor',\n",
    "     'desc': 'abnormal growth of tissue forming a mass'},\n",
    "    {'id': 'Q14753271', 'label': 'Tumor', 'desc': 'genus of insects'},\n",
    "    {'id': 'Q12777830', 'label': 'Tumor',\n",
    "     'desc': 'Wikimedia disambiguation page'}\n",
    "]"
   ]
  },
  {
   "cell_type": "code",
   "execution_count": 4,
   "metadata": {},
   "outputs": [
    {
     "name": "stdout",
     "output_type": "stream",
     "text": [
      "Row(id='Q37752422', text=['river', 'in', 'Russia'], words=['river', 'Russia'], result=DenseVector([-0.0018, 0.0764, 0.095]))\n",
      "Cosine similarity: 0.498661\n",
      "\n",
      "Row(id='Q31537161', text=['mountain', 'in', 'South', 'Africa'], words=['mountain', 'South', 'Africa'], result=DenseVector([-0.0912, -0.0128, -0.0671]))\n",
      "Cosine similarity: -0.754389\n",
      "\n",
      "Row(id='Q133212', text=['abnormal', 'growth', 'of', 'tissue', 'forming', 'a', 'mass'], words=['abnormal', 'growth', 'tissue', 'forming', 'mass'], result=DenseVector([0.0587, 0.0162, 0.0382]))\n",
      "Cosine similarity: 0.831477\n",
      "\n",
      "Row(id='Q14753271', text=['genus', 'of', 'insects'], words=['genus', 'insects'], result=DenseVector([0.028, 0.0923, -0.129]))\n",
      "Cosine similarity: 0.391865\n",
      "\n",
      "Row(id='Q12777830', text=['Wikimedia', 'disambiguation', 'page'], words=['Wikimedia', 'disambiguation', 'page'], result=DenseVector([-0.0435, -0.0078, 0.0637]))\n",
      "Cosine similarity: -0.375902\n",
      "\n",
      "Most similar: Q133212\n"
     ]
    }
   ],
   "source": [
    "targetDF = spark.createDataFrame([(target['id'], target['desc'].split(' '))], ['id', 'text'])\n",
    "redirectDF = spark.createDataFrame([(x['id'], x['desc'].split(' ')) for x in redirects], ['id', 'text'])\n",
    "\n",
    "# remove stop words\n",
    "# Available languages: “danish”, “dutch”, “english”, “finnish”, “french”, “german”,\n",
    "# “hungarian”, “italian”, “norwegian”, “portuguese”, “russian”, “spanish”, “swedish”\n",
    "# and “turkish”\n",
    "# See https://spark.apache.org/docs/2.1.0/ml-features.html#stopwordsremover\n",
    "# We may want to skip this step for languages that don't have stop words or create\n",
    "# stopwords and send them to spark.\n",
    "stopwords = StopWordsRemover.loadDefaultStopWords('english')\n",
    "remover = StopWordsRemover(inputCol=\"text\", outputCol=\"words\", stopWords=stopwords)\n",
    "targetDF = remover.transform(targetDF)\n",
    "redirectDF = remover.transform(redirectDF)\n",
    "\n",
    "# train the model\n",
    "word2Vec = Word2Vec(vectorSize=3, minCount=0, inputCol=\"words\", outputCol=\"result\")\n",
    "model = word2Vec.fit(redirectDF)\n",
    "target_result = model.transform(targetDF)\n",
    "target_vector = target_result.take(1)[0].result.reshape(1, -1)\n",
    "redirect_results = model.transform(redirectDF)\n",
    "\n",
    "# calculate cosine similarity\n",
    "similarities = []\n",
    "for row in redirect_results.collect():\n",
    "    print(row)\n",
    "    vector = row[-1]\n",
    "    similarity = cosine_similarity(target_vector, vector.reshape(1, -1))\n",
    "    print('Cosine similarity: %f\\n' % (similarity))\n",
    "    similarities.append((row[0], similarity))\n",
    "    \n",
    "similarities.sort(key=lambda x: x[1], reverse=True)\n",
    "similarities\n",
    "print('Most similar: %s' % similarities[0][0])"
   ]
  },
  {
   "cell_type": "code",
   "execution_count": null,
   "metadata": {},
   "outputs": [],
   "source": []
  }
 ],
 "metadata": {
  "kernelspec": {
   "display_name": "PySpark - YARN - bmansurov1 - for gapfinder",
   "language": "python",
   "name": "spark_yarn_pyspark_bmansurov1"
  },
  "language_info": {
   "codemirror_mode": {
    "name": "ipython",
    "version": 3
   },
   "file_extension": ".py",
   "mimetype": "text/x-python",
   "name": "python",
   "nbconvert_exporter": "python",
   "pygments_lexer": "ipython3",
   "version": "3.5.3"
  }
 },
 "nbformat": 4,
 "nbformat_minor": 2
}
